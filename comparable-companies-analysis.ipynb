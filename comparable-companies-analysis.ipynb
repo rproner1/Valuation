{
 "cells": [
  {
   "cell_type": "code",
   "execution_count": 215,
   "metadata": {},
   "outputs": [],
   "source": [
    "import pandas as pd\n",
    "import yfinance as yf\n",
    "import numpy as np"
   ]
  },
  {
   "cell_type": "code",
   "execution_count": 216,
   "metadata": {},
   "outputs": [
    {
     "name": "stdout",
     "output_type": "stream",
     "text": [
      "HSIC\n"
     ]
    }
   ],
   "source": [
    "targetTicker = input()\n",
    "comps = \"PDCO MCK\".split()"
   ]
  },
  {
   "cell_type": "code",
   "execution_count": 217,
   "metadata": {},
   "outputs": [
    {
     "name": "stdout",
     "output_type": "stream",
     "text": [
      "['PDCO', 'MCK', 'HSIC']\n"
     ]
    }
   ],
   "source": [
    "comps.append(targetTicker)\n",
    "print(comps)"
   ]
  },
  {
   "cell_type": "code",
   "execution_count": 218,
   "metadata": {},
   "outputs": [
    {
     "data": {
      "text/plain": [
       "{'zip': '11747',\n",
       " 'sector': 'Healthcare',\n",
       " 'fullTimeEmployees': 21000,\n",
       " 'longBusinessSummary': 'Henry Schein, Inc. provides health care products and services to dental practitioners and laboratories, physician practices, government, institutional health care clinics, and other alternate care clinics worldwide. It operates in two segments, Health Care Distribution, and Technology and Value-Added Services. The Health Care Distribution segment offers dental products, including infection-control products, handpieces, preventatives, impression materials, composites, anesthetics, teeth, dental implants, gypsum, acrylics, articulators, abrasives, dental chairs, delivery units and lights, X-ray supplies and equipment, personal protective equipment, and high-tech and digital restoration equipment, as well as equipment repair services. This segment also provides medical products comprising branded and generic pharmaceuticals, vaccines, surgical products, diagnostic tests, infection-control products, X-ray products, equipment, and vitamins. The Technology and Value-Added Services segment offers software, technology, and other value-added services that include practice management software systems for dental and medical practitioners. This segment also provides value-added practice solutions, which comprise financial services on a non-recourse basis, e-services, practice technology, network, and hardware services, as well as continuing education services for practitioners, and consulting and other services. Henry Schein, Inc. was founded in 1932 and is headquartered in Melville, New York.',\n",
       " 'city': 'Melville',\n",
       " 'phone': '631 843 5500',\n",
       " 'state': 'NY',\n",
       " 'country': 'United States',\n",
       " 'companyOfficers': [],\n",
       " 'website': 'http://www.henryschein.com',\n",
       " 'maxAge': 1,\n",
       " 'address1': '135 Duryea Road',\n",
       " 'industry': 'Medical Distribution',\n",
       " 'ebitdaMargins': 0.08352,\n",
       " 'profitMargins': 0.05094,\n",
       " 'grossMargins': 0.28531,\n",
       " 'operatingCashflow': 832905984,\n",
       " 'revenueGrowth': 0.762,\n",
       " 'operatingMargins': 0.06748,\n",
       " 'ebitda': 993721984,\n",
       " 'targetLowPrice': 68,\n",
       " 'recommendationKey': 'hold',\n",
       " 'grossProfits': 2814343000,\n",
       " 'freeCashflow': 513436000,\n",
       " 'targetMedianPrice': 83,\n",
       " 'currentPrice': 78.59,\n",
       " 'earningsGrowth': None,\n",
       " 'currentRatio': 1.787,\n",
       " 'returnOnAssets': 0.06499,\n",
       " 'numberOfAnalystOpinions': 11,\n",
       " 'targetMeanPrice': 83.73,\n",
       " 'debtToEquity': 24.002,\n",
       " 'returnOnEquity': 0.14976,\n",
       " 'targetHighPrice': 95,\n",
       " 'totalCash': 167228000,\n",
       " 'totalDebt': 1106670976,\n",
       " 'totalRevenue': 11898054656,\n",
       " 'totalCashPerShare': 1.197,\n",
       " 'financialCurrency': 'USD',\n",
       " 'revenuePerShare': 83.887,\n",
       " 'quickRatio': 0.728,\n",
       " 'recommendationMean': 2.6,\n",
       " 'exchange': 'NMS',\n",
       " 'shortName': 'Henry Schein, Inc.',\n",
       " 'longName': 'Henry Schein, Inc.',\n",
       " 'exchangeTimezoneName': 'America/New_York',\n",
       " 'exchangeTimezoneShortName': 'EDT',\n",
       " 'isEsgPopulated': False,\n",
       " 'gmtOffSetMilliseconds': '-14400000',\n",
       " 'quoteType': 'EQUITY',\n",
       " 'symbol': 'HSIC',\n",
       " 'messageBoardId': 'finmb_339447',\n",
       " 'market': 'us_market',\n",
       " 'annualHoldingsTurnover': None,\n",
       " 'enterpriseToRevenue': 1.097,\n",
       " 'beta3Year': None,\n",
       " 'enterpriseToEbitda': 13.129,\n",
       " '52WeekChange': 0.26662326,\n",
       " 'morningStarRiskRating': None,\n",
       " 'forwardEps': 4.52,\n",
       " 'revenueQuarterlyGrowth': None,\n",
       " 'sharesOutstanding': 139692992,\n",
       " 'fundInceptionDate': None,\n",
       " 'annualReportExpenseRatio': None,\n",
       " 'totalAssets': None,\n",
       " 'bookValue': 24.04,\n",
       " 'sharesShort': 3826564,\n",
       " 'sharesPercentSharesOut': 0.0274,\n",
       " 'fundFamily': None,\n",
       " 'lastFiscalYearEnd': 1608940800,\n",
       " 'heldPercentInstitutions': 0.97203004,\n",
       " 'netIncomeToCommon': 605360000,\n",
       " 'trailingEps': 4.227,\n",
       " 'lastDividendValue': None,\n",
       " 'SandP52WeekChange': 0.25276315,\n",
       " 'priceToBook': 3.2691345,\n",
       " 'heldPercentInsiders': 0.01244,\n",
       " 'nextFiscalYearEnd': 1672012800,\n",
       " 'yield': None,\n",
       " 'mostRecentQuarter': 1624665600,\n",
       " 'shortRatio': 5.68,\n",
       " 'sharesShortPreviousMonthDate': 1630368000,\n",
       " 'floatShares': 137994541,\n",
       " 'beta': 0.815873,\n",
       " 'enterpriseValue': 13046895616,\n",
       " 'priceHint': 2,\n",
       " 'threeYearAverageReturn': None,\n",
       " 'lastSplitDate': 1549584000,\n",
       " 'lastSplitFactor': '1275:1000',\n",
       " 'legalType': None,\n",
       " 'lastDividendDate': None,\n",
       " 'morningStarOverallRating': None,\n",
       " 'earningsQuarterlyGrowth': None,\n",
       " 'priceToSalesTrailing12Months': 0.9227115,\n",
       " 'dateShortInterest': 1632960000,\n",
       " 'pegRatio': 1.11,\n",
       " 'ytdReturn': None,\n",
       " 'forwardPE': 17.387167,\n",
       " 'lastCapGain': None,\n",
       " 'shortPercentOfFloat': 0.0309,\n",
       " 'sharesShortPriorMonth': 4030829,\n",
       " 'impliedSharesOutstanding': None,\n",
       " 'category': None,\n",
       " 'fiveYearAverageReturn': None,\n",
       " 'previousClose': 77.72,\n",
       " 'regularMarketOpen': 78.61,\n",
       " 'twoHundredDayAverage': 76.18799,\n",
       " 'trailingAnnualDividendYield': None,\n",
       " 'payoutRatio': 0,\n",
       " 'volume24Hr': None,\n",
       " 'regularMarketDayHigh': 79.02,\n",
       " 'navPrice': None,\n",
       " 'averageDailyVolume10Day': 635475,\n",
       " 'regularMarketPreviousClose': 77.72,\n",
       " 'fiftyDayAverage': 77.60057,\n",
       " 'trailingAnnualDividendRate': None,\n",
       " 'open': 78.61,\n",
       " 'toCurrency': None,\n",
       " 'averageVolume10days': 635475,\n",
       " 'expireDate': None,\n",
       " 'algorithm': None,\n",
       " 'dividendRate': None,\n",
       " 'exDividendDate': None,\n",
       " 'circulatingSupply': None,\n",
       " 'startDate': None,\n",
       " 'regularMarketDayLow': 77.84,\n",
       " 'currency': 'USD',\n",
       " 'trailingPE': 18.59238,\n",
       " 'regularMarketVolume': 509956,\n",
       " 'lastMarket': None,\n",
       " 'maxSupply': None,\n",
       " 'openInterest': None,\n",
       " 'marketCap': 10978471936,\n",
       " 'volumeAllCurrencies': None,\n",
       " 'strikePrice': None,\n",
       " 'averageVolume': 689090,\n",
       " 'dayLow': 77.84,\n",
       " 'ask': 78.59,\n",
       " 'askSize': 800,\n",
       " 'volume': 509956,\n",
       " 'fiftyTwoWeekHigh': 83.45,\n",
       " 'fromCurrency': None,\n",
       " 'fiveYearAvgDividendYield': None,\n",
       " 'fiftyTwoWeekLow': 59.44,\n",
       " 'bid': 78.54,\n",
       " 'tradeable': False,\n",
       " 'dividendYield': None,\n",
       " 'bidSize': 900,\n",
       " 'dayHigh': 79.02,\n",
       " 'regularMarketPrice': 78.59,\n",
       " 'logo_url': 'https://logo.clearbit.com/henryschein.com'}"
      ]
     },
     "execution_count": 218,
     "metadata": {},
     "output_type": "execute_result"
    }
   ],
   "source": [
    "target = yf.Ticker(targetTicker)\n",
    "targetInfo = target.info\n",
    "targetInfo"
   ]
  },
  {
   "cell_type": "code",
   "execution_count": 219,
   "metadata": {
    "scrolled": true
   },
   "outputs": [
    {
     "data": {
      "text/plain": [
       "('2021-10-15', '2021-11-19', '2022-01-21', '2022-04-14')"
      ]
     },
     "execution_count": 219,
     "metadata": {},
     "output_type": "execute_result"
    }
   ],
   "source": [
    "options = target.options\n",
    "options"
   ]
  },
  {
   "cell_type": "code",
   "execution_count": 220,
   "metadata": {},
   "outputs": [],
   "source": [
    "targetIndustry = targetInfo[\"industry\"]\n",
    "targetMktCap = targetInfo[\"marketCap\"]\n",
    "enterpriseValue = targetInfo[\"enterpriseValue\"]\n",
    "targetCountry = targetInfo[\"country\"]"
   ]
  },
  {
   "cell_type": "code",
   "execution_count": 221,
   "metadata": {},
   "outputs": [],
   "source": [
    "financials = target.financials\n",
    "balance = target.balance_sheet\n",
    "cash = target.cashflow\n",
    "ltmfinancials = target.quarterly_financials.sum(axis=1)\n",
    "ltmbalance = target.quarterly_balance_sheet.iloc[:,0]\n",
    "ltmcash = target.quarterly_cashflow.sum(axis=1)"
   ]
  },
  {
   "cell_type": "code",
   "execution_count": 222,
   "metadata": {},
   "outputs": [
    {
     "data": {
      "text/html": [
       "<div>\n",
       "<style scoped>\n",
       "    .dataframe tbody tr th:only-of-type {\n",
       "        vertical-align: middle;\n",
       "    }\n",
       "\n",
       "    .dataframe tbody tr th {\n",
       "        vertical-align: top;\n",
       "    }\n",
       "\n",
       "    .dataframe thead th {\n",
       "        text-align: right;\n",
       "    }\n",
       "</style>\n",
       "<table border=\"1\" class=\"dataframe\">\n",
       "  <thead>\n",
       "    <tr style=\"text-align: right;\">\n",
       "      <th></th>\n",
       "      <th>Revenue</th>\n",
       "      <th>Earnings</th>\n",
       "    </tr>\n",
       "    <tr>\n",
       "      <th>Quarter</th>\n",
       "      <th></th>\n",
       "      <th></th>\n",
       "    </tr>\n",
       "  </thead>\n",
       "  <tbody>\n",
       "    <tr>\n",
       "      <th>3Q2020</th>\n",
       "      <td>2840146000</td>\n",
       "      <td>141697000</td>\n",
       "    </tr>\n",
       "    <tr>\n",
       "      <th>4Q2020</th>\n",
       "      <td>3165725000</td>\n",
       "      <td>142633000</td>\n",
       "    </tr>\n",
       "    <tr>\n",
       "      <th>1Q2021</th>\n",
       "      <td>2924961000</td>\n",
       "      <td>165997000</td>\n",
       "    </tr>\n",
       "    <tr>\n",
       "      <th>2Q2021</th>\n",
       "      <td>2967223000</td>\n",
       "      <td>155716000</td>\n",
       "    </tr>\n",
       "  </tbody>\n",
       "</table>\n",
       "</div>"
      ],
      "text/plain": [
       "            Revenue   Earnings\n",
       "Quarter                       \n",
       "3Q2020   2840146000  141697000\n",
       "4Q2020   3165725000  142633000\n",
       "1Q2021   2924961000  165997000\n",
       "2Q2021   2967223000  155716000"
      ]
     },
     "execution_count": 222,
     "metadata": {},
     "output_type": "execute_result"
    }
   ],
   "source": [
    "target.quarterly_earnings"
   ]
  },
  {
   "cell_type": "code",
   "execution_count": 223,
   "metadata": {
    "scrolled": false
   },
   "outputs": [
    {
     "data": {
      "text/plain": [
       "Research Development                      0.000000e+00\n",
       "Effect Of Accounting Charges              0.000000e+00\n",
       "Income Before Tax                         8.004730e+08\n",
       "Minority Interest                         4.237563e+09\n",
       "Net Income                                6.060430e+08\n",
       "Selling General Administrative            2.594460e+09\n",
       "Gross Profit                              3.394612e+09\n",
       "Ebit                                      8.001520e+08\n",
       "Operating Income                          8.001520e+08\n",
       "Other Operating Expenses                  0.000000e+00\n",
       "Interest Expense                         -3.594000e+07\n",
       "Extraordinary Items                       0.000000e+00\n",
       "Non Recurring                             0.000000e+00\n",
       "Other Items                               0.000000e+00\n",
       "Income Tax Expense                        1.631260e+08\n",
       "Total Revenue                             1.189806e+10\n",
       "Total Operating Expenses                  1.109790e+10\n",
       "Cost Of Revenue                           8.503443e+09\n",
       "Total Other Income Expense Net            3.210000e+05\n",
       "Discontinued Operations                   6.830000e+05\n",
       "Net Income From Continuing Ops            6.373470e+08\n",
       "Net Income Applicable To Common Shares    6.060430e+08\n",
       "dtype: float64"
      ]
     },
     "execution_count": 223,
     "metadata": {},
     "output_type": "execute_result"
    }
   ],
   "source": [
    "ltmfinancials"
   ]
  },
  {
   "cell_type": "code",
   "execution_count": 224,
   "metadata": {
    "scrolled": true
   },
   "outputs": [
    {
     "data": {
      "text/plain": [
       "Investments                                 -304080000.0\n",
       "Change To Liabilities                        227358000.0\n",
       "Total Cashflows From Investing Activities   -374497000.0\n",
       "Net Borrowings                              -361963000.0\n",
       "Total Cash From Financing Activities        -588057000.0\n",
       "Change To Operating Activities                84158000.0\n",
       "Net Income                                   606043000.0\n",
       "Change In Cash                              -128882000.0\n",
       "Repurchase Of Stock                         -209156000.0\n",
       "Effect Of Exchange Rate                       12766000.0\n",
       "Total Cash From Operating Activities         820906000.0\n",
       "Depreciation                                 188721000.0\n",
       "Other Cashflows From Investing Activities    -20364000.0\n",
       "Change To Inventory                         -169275000.0\n",
       "Change To Account Receivables               -187402000.0\n",
       "Other Cashflows From Financing Activities    -16938000.0\n",
       "Change To Netincome                           71303000.0\n",
       "Capital Expenditures                         -50053000.0\n",
       "dtype: float64"
      ]
     },
     "execution_count": 224,
     "metadata": {},
     "output_type": "execute_result"
    }
   ],
   "source": [
    "ltmcash"
   ]
  },
  {
   "cell_type": "code",
   "execution_count": 225,
   "metadata": {
    "scrolled": true
   },
   "outputs": [
    {
     "data": {
      "text/plain": [
       "Intangible Assets                   6.045150e+08\n",
       "Total Liab                          3.513304e+09\n",
       "Total Stockholder Equity            3.360266e+09\n",
       "Minority Interest                   1.250496e+09\n",
       "Other Current Liab                  2.307170e+08\n",
       "Total Assets                        8.124066e+09\n",
       "Common Stock                        1.398000e+06\n",
       "Retained Earnings                   3.465647e+09\n",
       "Other Liab                          4.699440e+08\n",
       "Good Will                           2.722974e+09\n",
       "Treasury Stock                     -1.067790e+08\n",
       "Cash                                1.672280e+08\n",
       "Total Current Liabilities           2.093641e+09\n",
       "Short Long Term Debt                7.419000e+06\n",
       "Other Stockholder Equity           -1.067790e+08\n",
       "Property Plant Equipment            6.596640e+08\n",
       "Total Current Assets                3.742248e+09\n",
       "Long Term Investments               3.946650e+08\n",
       "Net Tangible Assets                 3.277700e+07\n",
       "Net Receivables                     1.356881e+09\n",
       "Long Term Debt                      7.032060e+08\n",
       "Inventory                           1.688210e+09\n",
       "Accounts Payable                    9.038590e+08\n",
       "Other Assets                                 NaN\n",
       "Deferred Long Term Asset Charges             NaN\n",
       "Capital Surplus                              NaN\n",
       "Name: 2021-06-26 00:00:00, dtype: float64"
      ]
     },
     "execution_count": 225,
     "metadata": {},
     "output_type": "execute_result"
    }
   ],
   "source": [
    "ltmbalance"
   ]
  },
  {
   "cell_type": "code",
   "execution_count": 226,
   "metadata": {},
   "outputs": [],
   "source": [
    "# comparableCompanies = pd.read_excel(r\"C:\\Users\\Robpr\\Downloads\\GridExport_September_7_2021_10_12_43.xlsx\")\n",
    "# comparableCompanies"
   ]
  },
  {
   "cell_type": "code",
   "execution_count": 227,
   "metadata": {
    "scrolled": true
   },
   "outputs": [],
   "source": [
    "# comps = list(comparableCompanies['Identifier (RIC)'])\n",
    "# comps = []\n",
    "# for comp in comparableCompanies:\n",
    "#     tick = yf.Ticker(comp)\n",
    "    \n",
    "#     mktCap = comparableCompanies[comparableCompanies[\"Identifier (RIC)\"] == ric][\"Market Cap\"].iloc[0]\n",
    "    \n",
    "#     if abs((mktCap - targetMktCap) / targetMktCap) < 0.9:\n",
    "#         comps.append(ric)\n",
    "# comps"
   ]
  },
  {
   "cell_type": "code",
   "execution_count": 228,
   "metadata": {
    "scrolled": true
   },
   "outputs": [],
   "source": [
    "benchmarking1 = {\"Ticker\": [], \n",
    "                 \"Equity Value\": [],\n",
    "                 \"Enterprise Value\": [],\n",
    "                 \"LTM Sales\": [],\n",
    "                 \"LTM Gross Profit\": [],\n",
    "                 \"LTM EBITDA\": [],\n",
    "                 \"LTM EBIT\": [],\n",
    "                 \"LTM Net Income\": [],\n",
    "                 \"LTM Gross Margin\": [],\n",
    "                 \"LTM EBITDA Margin\": [],\n",
    "                 \"LTM EBIT Margin\": [],\n",
    "                 \"LTM Profit Margin\": [],\n",
    "                 \"1-year Sales Growth\": [],\n",
    "                 \"1-year EBITDA Growth\": [],\n",
    "                 \"1-year Net Income Growth\": []}\n",
    "\n",
    "benchmarking2 = {'Ticker': [],\n",
    "                'Beta': [],\n",
    "                'ROIC': [],\n",
    "                'ROA': [],\n",
    "                'ROE': [],\n",
    "                'Implied Div. Yield': [],\n",
    "                'Debt / Tot. Cap.': [],\n",
    "                'Debt / EBITDA': [],\n",
    "                'Net Debt / EBITDA': [],\n",
    "                'EBITDA / Int. Exp.': [],\n",
    "                '(EBITDA - Cpx) / Int.': [],\n",
    "                'EBIT / Int. Exp.': []}\n",
    "\n",
    "output = {'Ticker': [],\n",
    "          'Current Share Price': [],\n",
    "          '% of 52-wk. High': [],\n",
    "          'Equity Value': [],\n",
    "          'Enterprise Value': [],\n",
    "          'EV / LTM Sales': [],\n",
    "          'EV / LTM EBITDA': [],\n",
    "          'EV / LTM EBIT': [],\n",
    "          'Price / LTM EPS': []}\n",
    "\n",
    "for comp in comps:\n",
    "    tick = yf.Ticker(comp)\n",
    "    \n",
    "    info = tick.info\n",
    "    for key in info:\n",
    "        if info[key] is None:\n",
    "            info[key] = 0\n",
    "    \n",
    "    financials = tick.financials\n",
    "    balance = tick.balance_sheet\n",
    "    cash = tick.cashflow\n",
    "    ltmfinancials = tick.quarterly_financials.sum(axis=1)\n",
    "    ltmbalance = tick.quarterly_balance_sheet.iloc[:,0]\n",
    "    ltmcash = tick.quarterly_cashflow.sum(axis=1)\n",
    "    \n",
    "    \n",
    "    \n",
    "    # Market Valuation\n",
    "    equityValue = info[\"marketCap\"]\n",
    "    enterpriseValue = info[\"enterpriseValue\"]\n",
    "    \n",
    "    # General\n",
    "    beta = info[\"beta\"]\n",
    "    benchmarking2['Beta'].append(beta)\n",
    "    benchmarking2['Ticker'].append(comp)\n",
    "    \n",
    "    # LTM Financial Statistics\n",
    "    ltmSales = ltmfinancials.loc[\"Total Revenue\"]\n",
    "    ltmGross = ltmfinancials.loc[\"Gross Profit\"]\n",
    "    ltmEBITDA = ltmfinancials.loc[\"Ebit\"] + ltmcash.loc[\"Depreciation\"]\n",
    "    ltmEBIT = ltmfinancials.loc[\"Ebit\"]\n",
    "    ltmNetIncome = ltmfinancials.loc[\"Net Income\"]\n",
    "    \n",
    "    # LTM Profitability Margins\n",
    "    ltmGrossMargin = ltmGross / ltmSales\n",
    "    ltmEBITDAMargin = ltmEBITDA / ltmSales\n",
    "    ltmEBITMargin = ltmEBIT / ltmSales\n",
    "    ltmNetIncMargin = ltmNetIncome / ltmSales\n",
    "    \n",
    "    # Growth Rates (1-year Annual)\n",
    "    salestm1 = financials.iloc[:, 1].loc[\"Total Revenue\"]\n",
    "    salest = financials.iloc[:, 0].loc[\"Total Revenue\"]\n",
    "    salesGr = (salest - salestm1) / salestm1\n",
    "\n",
    "    ebitdatm1 = financials.iloc[:, 1].loc[\"Ebit\"] + cash.iloc[:, 1].loc[\"Depreciation\"] \n",
    "    ebitdat = financials.iloc[:, 0].loc[\"Ebit\"] + cash.iloc[:, 0].loc[\"Depreciation\"]\n",
    "    ebitdaGr = (ebitdat - ebitdatm1) / ebitdatm1\n",
    "\n",
    "    netIncometm1 = financials.iloc[:, 1].loc[\"Net Income\"]\n",
    "    netIncomet = financials.iloc[:, 0].loc[\"Net Income\"]\n",
    "    netIncomeGr = (netIncomet - netIncometm1) / netIncometm1\n",
    "    \n",
    "    benchmarking1[\"Ticker\"].append(comp)\n",
    "    \n",
    "    # Market Valuation\n",
    "    benchmarking1[\"Equity Value\"].append(equityValue)\n",
    "    benchmarking1['Enterprise Value'].append(enterpriseValue)\n",
    "    \n",
    "    # LTM Financial Statistics\n",
    "    benchmarking1['LTM Sales'].append(ltmSales)\n",
    "    benchmarking1['LTM Gross Profit'].append(ltmGross)\n",
    "    benchmarking1['LTM EBITDA'].append(ltmEBITDA)\n",
    "    benchmarking1['LTM EBIT'].append(ltmEBIT)\n",
    "    benchmarking1['LTM Net Income'].append(ltmNetIncome)\n",
    "    \n",
    "    # LTM Profitability Margins\n",
    "    benchmarking1['LTM Gross Margin'].append(ltmGrossMargin)\n",
    "    benchmarking1['LTM EBITDA Margin'].append(ltmEBITDAMargin)\n",
    "    benchmarking1['LTM EBIT Margin'].append(ltmEBITMargin)\n",
    "    benchmarking1['LTM Profit Margin'].append(ltmNetIncMargin)\n",
    "    \n",
    "    # Growth Rates\n",
    "    benchmarking1['1-year Sales Growth'].append(salesGr)\n",
    "    benchmarking1['1-year EBITDA Growth'].append(ebitdaGr)\n",
    "    benchmarking1['1-year Net Income Growth'].append(netIncomeGr)\n",
    "    \n",
    "    # Return on Investment\n",
    "    debtt = ltmbalance.loc['Short Long Term Debt'] + ltmbalance.loc['Long Term Debt']\n",
    "    debttm1 = balance.iloc[:, 0].loc['Short Long Term Debt'] + balance.iloc[:, 0].loc['Long Term Debt']\n",
    "    netDebtt = debtt - ltmbalance.loc['Cash']\n",
    "    netDebttm1 = debttm1 - balance.iloc[:, 0].loc['Cash']\n",
    "    avgNetDebt = (netDebtt + netDebttm1) / 2\n",
    "    roic = ltmEBIT / avgNetDebt\n",
    "    \n",
    "    avgEquity = (ltmbalance.loc['Total Stockholder Equity'] + balance.iloc[:, 0].loc['Total Stockholder Equity']) / 2\n",
    "    roe = ltmNetIncome / avgEquity\n",
    "    \n",
    "    avgAssets = (ltmbalance.loc['Total Assets'] + balance.iloc[:, 0].loc['Total Assets']) / 2\n",
    "    roa = ltmNetIncome / avgAssets\n",
    "    \n",
    "    impliedDivYield = info['dividendRate'] / info['currentPrice']\n",
    "    \n",
    "    benchmarking2['ROIC'].append(roic)\n",
    "    benchmarking2['ROE'].append(roe)\n",
    "    benchmarking2['ROA'].append(roa)\n",
    "    benchmarking2['Implied Div. Yield'].append(impliedDivYield)\n",
    "    \n",
    "    # LTM Leverage Ratios\n",
    "    totCap = ltmbalance.loc['Total Stockholder Equity'] + debtt\n",
    "    debtToTotCap = debtt / totCap\n",
    "    \n",
    "    debtToEBITDA = debtt / ltmEBITDA\n",
    "    netDebtToEBITDA = netDebtt / ltmEBITDA\n",
    "    \n",
    "    benchmarking2['Debt / Tot. Cap.'].append(debtToTotCap)\n",
    "    benchmarking2['Debt / EBITDA'].append(debtToEBITDA)\n",
    "    benchmarking2['Net Debt / EBITDA'].append(netDebtToEBITDA)\n",
    "    \n",
    "    # LTM Coverage Ratios\n",
    "    ebitdaToIntExp = ltmEBITDA / (ltmfinancials.loc['Interest Expense'] * -1)\n",
    "    ebitdaLessCapexToIntExp = (ltmEBITDA - ltmcash.loc['Capital Expenditures']) / (ltmfinancials.loc['Interest Expense']*-1)\n",
    "    ebitToIntExp = ltmEBIT / (ltmfinancials.loc['Interest Expense']*-1)\n",
    "    \n",
    "    benchmarking2['EBITDA / Int. Exp.'].append(ebitdaToIntExp)\n",
    "    benchmarking2['(EBITDA - Cpx) / Int.'].append(ebitdaLessCapexToIntExp)\n",
    "    benchmarking2['EBIT / Int. Exp.'].append(ebitToIntExp)\n",
    "    \n",
    "    # Output\n",
    "    output['Ticker'].append(comp)\n",
    "    output['Current Share Price'].append(info['currentPrice'])\n",
    "    output['% of 52-wk. High'].append(info['currentPrice'] / info['fiftyTwoWeekHigh'])\n",
    "    output['Equity Value'].append(equityValue)\n",
    "    output['Enterprise Value'].append(enterpriseValue)\n",
    "    \n",
    "    evToLtmSales = enterpriseValue / ltmSales\n",
    "    evToLtmEBITDA = enterpriseValue / ltmEBITDA\n",
    "    evToLtmEBIT = enterpriseValue / ltmEBIT\n",
    "    priceToLtmEPS = info['currentPrice'] / (ltmNetIncome / info['sharesOutstanding'])\n",
    "    \n",
    "    output['EV / LTM Sales'].append(evToLtmSales)\n",
    "    output['EV / LTM EBITDA'].append(evToLtmEBITDA)\n",
    "    output['EV / LTM EBIT'].append(evToLtmEBIT)\n",
    "    output['Price / LTM EPS'].append(priceToLtmEPS)"
   ]
  },
  {
   "cell_type": "code",
   "execution_count": null,
   "metadata": {},
   "outputs": [],
   "source": []
  },
  {
   "cell_type": "code",
   "execution_count": 229,
   "metadata": {
    "scrolled": false
   },
   "outputs": [
    {
     "data": {
      "text/html": [
       "<div>\n",
       "<style scoped>\n",
       "    .dataframe tbody tr th:only-of-type {\n",
       "        vertical-align: middle;\n",
       "    }\n",
       "\n",
       "    .dataframe tbody tr th {\n",
       "        vertical-align: top;\n",
       "    }\n",
       "\n",
       "    .dataframe thead th {\n",
       "        text-align: right;\n",
       "    }\n",
       "</style>\n",
       "<table border=\"1\" class=\"dataframe\">\n",
       "  <thead>\n",
       "    <tr style=\"text-align: right;\">\n",
       "      <th></th>\n",
       "      <th>Ticker</th>\n",
       "      <th>Equity Value</th>\n",
       "      <th>Enterprise Value</th>\n",
       "      <th>LTM Sales</th>\n",
       "      <th>LTM Gross Profit</th>\n",
       "      <th>LTM EBITDA</th>\n",
       "      <th>LTM EBIT</th>\n",
       "      <th>LTM Net Income</th>\n",
       "      <th>LTM Gross Margin</th>\n",
       "      <th>LTM EBITDA Margin</th>\n",
       "      <th>LTM EBIT Margin</th>\n",
       "      <th>LTM Profit Margin</th>\n",
       "      <th>1-year Sales Growth</th>\n",
       "      <th>1-year EBITDA Growth</th>\n",
       "      <th>1-year Net Income Growth</th>\n",
       "    </tr>\n",
       "  </thead>\n",
       "  <tbody>\n",
       "    <tr>\n",
       "      <th>0</th>\n",
       "      <td>PDCO</td>\n",
       "      <td>3152259584</td>\n",
       "      <td>3742572800</td>\n",
       "      <td>6.281105e+09</td>\n",
       "      <td>1.276316e+09</td>\n",
       "      <td>3.026270e+08</td>\n",
       "      <td>2.230800e+08</td>\n",
       "      <td>1.655700e+08</td>\n",
       "      <td>0.203199</td>\n",
       "      <td>0.048181</td>\n",
       "      <td>0.035516</td>\n",
       "      <td>0.026360</td>\n",
       "      <td>0.076877</td>\n",
       "      <td>0.091363</td>\n",
       "      <td>-1.265073</td>\n",
       "    </tr>\n",
       "    <tr>\n",
       "      <th>1</th>\n",
       "      <td>MCK</td>\n",
       "      <td>31408306176</td>\n",
       "      <td>38527455232</td>\n",
       "      <td>2.452230e+11</td>\n",
       "      <td>1.229900e+10</td>\n",
       "      <td>4.203000e+09</td>\n",
       "      <td>3.315000e+09</td>\n",
       "      <td>-4.497000e+09</td>\n",
       "      <td>0.050154</td>\n",
       "      <td>0.017140</td>\n",
       "      <td>0.013518</td>\n",
       "      <td>-0.018338</td>\n",
       "      <td>0.031062</td>\n",
       "      <td>0.070569</td>\n",
       "      <td>-6.043333</td>\n",
       "    </tr>\n",
       "    <tr>\n",
       "      <th>2</th>\n",
       "      <td>HSIC</td>\n",
       "      <td>10978471936</td>\n",
       "      <td>13046895616</td>\n",
       "      <td>1.189806e+10</td>\n",
       "      <td>3.394612e+09</td>\n",
       "      <td>9.888730e+08</td>\n",
       "      <td>8.001520e+08</td>\n",
       "      <td>6.060430e+08</td>\n",
       "      <td>0.285308</td>\n",
       "      <td>0.083112</td>\n",
       "      <td>0.067251</td>\n",
       "      <td>0.050936</td>\n",
       "      <td>0.013353</td>\n",
       "      <td>-0.202824</td>\n",
       "      <td>-0.418779</td>\n",
       "    </tr>\n",
       "  </tbody>\n",
       "</table>\n",
       "</div>"
      ],
      "text/plain": [
       "  Ticker  Equity Value  Enterprise Value     LTM Sales  LTM Gross Profit  \\\n",
       "0   PDCO    3152259584        3742572800  6.281105e+09      1.276316e+09   \n",
       "1    MCK   31408306176       38527455232  2.452230e+11      1.229900e+10   \n",
       "2   HSIC   10978471936       13046895616  1.189806e+10      3.394612e+09   \n",
       "\n",
       "     LTM EBITDA      LTM EBIT  LTM Net Income  LTM Gross Margin  \\\n",
       "0  3.026270e+08  2.230800e+08    1.655700e+08          0.203199   \n",
       "1  4.203000e+09  3.315000e+09   -4.497000e+09          0.050154   \n",
       "2  9.888730e+08  8.001520e+08    6.060430e+08          0.285308   \n",
       "\n",
       "   LTM EBITDA Margin  LTM EBIT Margin  LTM Profit Margin  1-year Sales Growth  \\\n",
       "0           0.048181         0.035516           0.026360             0.076877   \n",
       "1           0.017140         0.013518          -0.018338             0.031062   \n",
       "2           0.083112         0.067251           0.050936             0.013353   \n",
       "\n",
       "   1-year EBITDA Growth  1-year Net Income Growth  \n",
       "0              0.091363                 -1.265073  \n",
       "1              0.070569                 -6.043333  \n",
       "2             -0.202824                 -0.418779  "
      ]
     },
     "execution_count": 229,
     "metadata": {},
     "output_type": "execute_result"
    }
   ],
   "source": [
    "benchmarking1Df = pd.DataFrame(benchmarking1)\n",
    "benchmarking1Df"
   ]
  },
  {
   "cell_type": "code",
   "execution_count": 230,
   "metadata": {},
   "outputs": [
    {
     "data": {
      "text/html": [
       "<div>\n",
       "<style scoped>\n",
       "    .dataframe tbody tr th:only-of-type {\n",
       "        vertical-align: middle;\n",
       "    }\n",
       "\n",
       "    .dataframe tbody tr th {\n",
       "        vertical-align: top;\n",
       "    }\n",
       "\n",
       "    .dataframe thead th {\n",
       "        text-align: right;\n",
       "    }\n",
       "</style>\n",
       "<table border=\"1\" class=\"dataframe\">\n",
       "  <thead>\n",
       "    <tr style=\"text-align: right;\">\n",
       "      <th></th>\n",
       "      <th>Ticker</th>\n",
       "      <th>Beta</th>\n",
       "      <th>ROIC</th>\n",
       "      <th>ROA</th>\n",
       "      <th>ROE</th>\n",
       "      <th>Implied Div. Yield</th>\n",
       "      <th>Debt / Tot. Cap.</th>\n",
       "      <th>Debt / EBITDA</th>\n",
       "      <th>Net Debt / EBITDA</th>\n",
       "      <th>EBITDA / Int. Exp.</th>\n",
       "      <th>(EBITDA - Cpx) / Int.</th>\n",
       "      <th>EBIT / Int. Exp.</th>\n",
       "    </tr>\n",
       "  </thead>\n",
       "  <tbody>\n",
       "    <tr>\n",
       "      <th>0</th>\n",
       "      <td>PDCO</td>\n",
       "      <td>1.523809</td>\n",
       "      <td>0.486061</td>\n",
       "      <td>0.060181</td>\n",
       "      <td>0.170466</td>\n",
       "      <td>0.032109</td>\n",
       "      <td>0.379204</td>\n",
       "      <td>1.976747</td>\n",
       "      <td>1.524276</td>\n",
       "      <td>13.991724</td>\n",
       "      <td>15.243100</td>\n",
       "      <td>10.313930</td>\n",
       "    </tr>\n",
       "    <tr>\n",
       "      <th>1</th>\n",
       "      <td>MCK</td>\n",
       "      <td>0.847619</td>\n",
       "      <td>1.215622</td>\n",
       "      <td>-0.070316</td>\n",
       "      <td>16.352727</td>\n",
       "      <td>0.009258</td>\n",
       "      <td>1.080640</td>\n",
       "      <td>1.686652</td>\n",
       "      <td>1.110159</td>\n",
       "      <td>20.402913</td>\n",
       "      <td>22.694175</td>\n",
       "      <td>16.092233</td>\n",
       "    </tr>\n",
       "    <tr>\n",
       "      <th>2</th>\n",
       "      <td>HSIC</td>\n",
       "      <td>0.815873</td>\n",
       "      <td>2.157151</td>\n",
       "      <td>0.076248</td>\n",
       "      <td>0.180681</td>\n",
       "      <td>0.000000</td>\n",
       "      <td>0.174563</td>\n",
       "      <td>0.718621</td>\n",
       "      <td>0.549511</td>\n",
       "      <td>27.514552</td>\n",
       "      <td>28.907234</td>\n",
       "      <td>22.263550</td>\n",
       "    </tr>\n",
       "  </tbody>\n",
       "</table>\n",
       "</div>"
      ],
      "text/plain": [
       "  Ticker      Beta      ROIC       ROA        ROE  Implied Div. Yield  \\\n",
       "0   PDCO  1.523809  0.486061  0.060181   0.170466            0.032109   \n",
       "1    MCK  0.847619  1.215622 -0.070316  16.352727            0.009258   \n",
       "2   HSIC  0.815873  2.157151  0.076248   0.180681            0.000000   \n",
       "\n",
       "   Debt / Tot. Cap.  Debt / EBITDA  Net Debt / EBITDA  EBITDA / Int. Exp.  \\\n",
       "0          0.379204       1.976747           1.524276           13.991724   \n",
       "1          1.080640       1.686652           1.110159           20.402913   \n",
       "2          0.174563       0.718621           0.549511           27.514552   \n",
       "\n",
       "   (EBITDA - Cpx) / Int.  EBIT / Int. Exp.  \n",
       "0              15.243100         10.313930  \n",
       "1              22.694175         16.092233  \n",
       "2              28.907234         22.263550  "
      ]
     },
     "execution_count": 230,
     "metadata": {},
     "output_type": "execute_result"
    }
   ],
   "source": [
    "benchmarking2Df = pd.DataFrame(benchmarking2)\n",
    "benchmarking2Df"
   ]
  },
  {
   "cell_type": "code",
   "execution_count": 231,
   "metadata": {},
   "outputs": [
    {
     "data": {
      "text/html": [
       "<div>\n",
       "<style scoped>\n",
       "    .dataframe tbody tr th:only-of-type {\n",
       "        vertical-align: middle;\n",
       "    }\n",
       "\n",
       "    .dataframe tbody tr th {\n",
       "        vertical-align: top;\n",
       "    }\n",
       "\n",
       "    .dataframe thead th {\n",
       "        text-align: right;\n",
       "    }\n",
       "</style>\n",
       "<table border=\"1\" class=\"dataframe\">\n",
       "  <thead>\n",
       "    <tr style=\"text-align: right;\">\n",
       "      <th></th>\n",
       "      <th>Equity Value</th>\n",
       "      <th>Enterprise Value</th>\n",
       "      <th>LTM Sales</th>\n",
       "      <th>LTM Gross Profit</th>\n",
       "      <th>LTM EBITDA</th>\n",
       "      <th>LTM EBIT</th>\n",
       "      <th>LTM Net Income</th>\n",
       "      <th>LTM Gross Margin</th>\n",
       "      <th>LTM EBITDA Margin</th>\n",
       "      <th>LTM EBIT Margin</th>\n",
       "      <th>LTM Profit Margin</th>\n",
       "      <th>1-year Sales Growth</th>\n",
       "      <th>1-year EBITDA Growth</th>\n",
       "      <th>1-year Net Income Growth</th>\n",
       "    </tr>\n",
       "  </thead>\n",
       "  <tbody>\n",
       "    <tr>\n",
       "      <th>mean</th>\n",
       "      <td>1.517968e+10</td>\n",
       "      <td>1.843897e+10</td>\n",
       "      <td>8.780072e+10</td>\n",
       "      <td>5.656643e+09</td>\n",
       "      <td>1.831500e+09</td>\n",
       "      <td>1.446077e+09</td>\n",
       "      <td>-1.241796e+09</td>\n",
       "      <td>0.179554</td>\n",
       "      <td>0.049477</td>\n",
       "      <td>0.038762</td>\n",
       "      <td>0.019653</td>\n",
       "      <td>0.040431</td>\n",
       "      <td>-0.013631</td>\n",
       "      <td>-2.575728</td>\n",
       "    </tr>\n",
       "    <tr>\n",
       "      <th>min</th>\n",
       "      <td>3.152260e+09</td>\n",
       "      <td>3.742573e+09</td>\n",
       "      <td>6.281105e+09</td>\n",
       "      <td>1.276316e+09</td>\n",
       "      <td>3.026270e+08</td>\n",
       "      <td>2.230800e+08</td>\n",
       "      <td>-4.497000e+09</td>\n",
       "      <td>0.050154</td>\n",
       "      <td>0.017140</td>\n",
       "      <td>0.013518</td>\n",
       "      <td>-0.018338</td>\n",
       "      <td>0.013353</td>\n",
       "      <td>-0.202824</td>\n",
       "      <td>-6.043333</td>\n",
       "    </tr>\n",
       "    <tr>\n",
       "      <th>median</th>\n",
       "      <td>1.097847e+10</td>\n",
       "      <td>1.304690e+10</td>\n",
       "      <td>1.189806e+10</td>\n",
       "      <td>3.394612e+09</td>\n",
       "      <td>9.888730e+08</td>\n",
       "      <td>8.001520e+08</td>\n",
       "      <td>1.655700e+08</td>\n",
       "      <td>0.203199</td>\n",
       "      <td>0.048181</td>\n",
       "      <td>0.035516</td>\n",
       "      <td>0.026360</td>\n",
       "      <td>0.031062</td>\n",
       "      <td>0.070569</td>\n",
       "      <td>-1.265073</td>\n",
       "    </tr>\n",
       "    <tr>\n",
       "      <th>max</th>\n",
       "      <td>3.140831e+10</td>\n",
       "      <td>3.852746e+10</td>\n",
       "      <td>2.452230e+11</td>\n",
       "      <td>1.229900e+10</td>\n",
       "      <td>4.203000e+09</td>\n",
       "      <td>3.315000e+09</td>\n",
       "      <td>6.060430e+08</td>\n",
       "      <td>0.285308</td>\n",
       "      <td>0.083112</td>\n",
       "      <td>0.067251</td>\n",
       "      <td>0.050936</td>\n",
       "      <td>0.076877</td>\n",
       "      <td>0.091363</td>\n",
       "      <td>-0.418779</td>\n",
       "    </tr>\n",
       "  </tbody>\n",
       "</table>\n",
       "</div>"
      ],
      "text/plain": [
       "        Equity Value  Enterprise Value     LTM Sales  LTM Gross Profit  \\\n",
       "mean    1.517968e+10      1.843897e+10  8.780072e+10      5.656643e+09   \n",
       "min     3.152260e+09      3.742573e+09  6.281105e+09      1.276316e+09   \n",
       "median  1.097847e+10      1.304690e+10  1.189806e+10      3.394612e+09   \n",
       "max     3.140831e+10      3.852746e+10  2.452230e+11      1.229900e+10   \n",
       "\n",
       "          LTM EBITDA      LTM EBIT  LTM Net Income  LTM Gross Margin  \\\n",
       "mean    1.831500e+09  1.446077e+09   -1.241796e+09          0.179554   \n",
       "min     3.026270e+08  2.230800e+08   -4.497000e+09          0.050154   \n",
       "median  9.888730e+08  8.001520e+08    1.655700e+08          0.203199   \n",
       "max     4.203000e+09  3.315000e+09    6.060430e+08          0.285308   \n",
       "\n",
       "        LTM EBITDA Margin  LTM EBIT Margin  LTM Profit Margin  \\\n",
       "mean             0.049477         0.038762           0.019653   \n",
       "min              0.017140         0.013518          -0.018338   \n",
       "median           0.048181         0.035516           0.026360   \n",
       "max              0.083112         0.067251           0.050936   \n",
       "\n",
       "        1-year Sales Growth  1-year EBITDA Growth  1-year Net Income Growth  \n",
       "mean               0.040431             -0.013631                 -2.575728  \n",
       "min                0.013353             -0.202824                 -6.043333  \n",
       "median             0.031062              0.070569                 -1.265073  \n",
       "max                0.076877              0.091363                 -0.418779  "
      ]
     },
     "execution_count": 231,
     "metadata": {},
     "output_type": "execute_result"
    }
   ],
   "source": [
    "bm1Stats = benchmarking1Df.describe().loc['mean min 50% max'.split()].rename({'50%': 'median'}, axis=0)\n",
    "bm1Stats"
   ]
  },
  {
   "cell_type": "code",
   "execution_count": 232,
   "metadata": {},
   "outputs": [
    {
     "data": {
      "text/html": [
       "<div>\n",
       "<style scoped>\n",
       "    .dataframe tbody tr th:only-of-type {\n",
       "        vertical-align: middle;\n",
       "    }\n",
       "\n",
       "    .dataframe tbody tr th {\n",
       "        vertical-align: top;\n",
       "    }\n",
       "\n",
       "    .dataframe thead th {\n",
       "        text-align: right;\n",
       "    }\n",
       "</style>\n",
       "<table border=\"1\" class=\"dataframe\">\n",
       "  <thead>\n",
       "    <tr style=\"text-align: right;\">\n",
       "      <th></th>\n",
       "      <th>Beta</th>\n",
       "      <th>ROIC</th>\n",
       "      <th>ROA</th>\n",
       "      <th>ROE</th>\n",
       "      <th>Implied Div. Yield</th>\n",
       "      <th>Debt / Tot. Cap.</th>\n",
       "      <th>Debt / EBITDA</th>\n",
       "      <th>Net Debt / EBITDA</th>\n",
       "      <th>EBITDA / Int. Exp.</th>\n",
       "      <th>(EBITDA - Cpx) / Int.</th>\n",
       "      <th>EBIT / Int. Exp.</th>\n",
       "    </tr>\n",
       "  </thead>\n",
       "  <tbody>\n",
       "    <tr>\n",
       "      <th>mean</th>\n",
       "      <td>1.062434</td>\n",
       "      <td>1.286278</td>\n",
       "      <td>0.022038</td>\n",
       "      <td>5.567958</td>\n",
       "      <td>0.013789</td>\n",
       "      <td>0.544802</td>\n",
       "      <td>1.460673</td>\n",
       "      <td>1.061316</td>\n",
       "      <td>20.636396</td>\n",
       "      <td>22.281503</td>\n",
       "      <td>16.223238</td>\n",
       "    </tr>\n",
       "    <tr>\n",
       "      <th>min</th>\n",
       "      <td>0.815873</td>\n",
       "      <td>0.486061</td>\n",
       "      <td>-0.070316</td>\n",
       "      <td>0.170466</td>\n",
       "      <td>0.000000</td>\n",
       "      <td>0.174563</td>\n",
       "      <td>0.718621</td>\n",
       "      <td>0.549511</td>\n",
       "      <td>13.991724</td>\n",
       "      <td>15.243100</td>\n",
       "      <td>10.313930</td>\n",
       "    </tr>\n",
       "    <tr>\n",
       "      <th>median</th>\n",
       "      <td>0.847619</td>\n",
       "      <td>1.215622</td>\n",
       "      <td>0.060181</td>\n",
       "      <td>0.180681</td>\n",
       "      <td>0.009258</td>\n",
       "      <td>0.379204</td>\n",
       "      <td>1.686652</td>\n",
       "      <td>1.110159</td>\n",
       "      <td>20.402913</td>\n",
       "      <td>22.694175</td>\n",
       "      <td>16.092233</td>\n",
       "    </tr>\n",
       "    <tr>\n",
       "      <th>max</th>\n",
       "      <td>1.523809</td>\n",
       "      <td>2.157151</td>\n",
       "      <td>0.076248</td>\n",
       "      <td>16.352727</td>\n",
       "      <td>0.032109</td>\n",
       "      <td>1.080640</td>\n",
       "      <td>1.976747</td>\n",
       "      <td>1.524276</td>\n",
       "      <td>27.514552</td>\n",
       "      <td>28.907234</td>\n",
       "      <td>22.263550</td>\n",
       "    </tr>\n",
       "  </tbody>\n",
       "</table>\n",
       "</div>"
      ],
      "text/plain": [
       "            Beta      ROIC       ROA        ROE  Implied Div. Yield  \\\n",
       "mean    1.062434  1.286278  0.022038   5.567958            0.013789   \n",
       "min     0.815873  0.486061 -0.070316   0.170466            0.000000   \n",
       "median  0.847619  1.215622  0.060181   0.180681            0.009258   \n",
       "max     1.523809  2.157151  0.076248  16.352727            0.032109   \n",
       "\n",
       "        Debt / Tot. Cap.  Debt / EBITDA  Net Debt / EBITDA  \\\n",
       "mean            0.544802       1.460673           1.061316   \n",
       "min             0.174563       0.718621           0.549511   \n",
       "median          0.379204       1.686652           1.110159   \n",
       "max             1.080640       1.976747           1.524276   \n",
       "\n",
       "        EBITDA / Int. Exp.  (EBITDA - Cpx) / Int.  EBIT / Int. Exp.  \n",
       "mean             20.636396              22.281503         16.223238  \n",
       "min              13.991724              15.243100         10.313930  \n",
       "median           20.402913              22.694175         16.092233  \n",
       "max              27.514552              28.907234         22.263550  "
      ]
     },
     "execution_count": 232,
     "metadata": {},
     "output_type": "execute_result"
    }
   ],
   "source": [
    "bm2Stats = benchmarking2Df.describe().loc['mean min 50% max'.split()].rename({'50%': 'median'}, axis=0)\n",
    "bm2Stats"
   ]
  },
  {
   "cell_type": "code",
   "execution_count": 234,
   "metadata": {
    "scrolled": true
   },
   "outputs": [
    {
     "data": {
      "text/html": [
       "<div>\n",
       "<style scoped>\n",
       "    .dataframe tbody tr th:only-of-type {\n",
       "        vertical-align: middle;\n",
       "    }\n",
       "\n",
       "    .dataframe tbody tr th {\n",
       "        vertical-align: top;\n",
       "    }\n",
       "\n",
       "    .dataframe thead th {\n",
       "        text-align: right;\n",
       "    }\n",
       "</style>\n",
       "<table border=\"1\" class=\"dataframe\">\n",
       "  <thead>\n",
       "    <tr style=\"text-align: right;\">\n",
       "      <th></th>\n",
       "      <th>Ticker</th>\n",
       "      <th>Current Share Price</th>\n",
       "      <th>% of 52-wk. High</th>\n",
       "      <th>Equity Value</th>\n",
       "      <th>Enterprise Value</th>\n",
       "      <th>EV / LTM Sales</th>\n",
       "      <th>EV / LTM EBITDA</th>\n",
       "      <th>EV / LTM EBIT</th>\n",
       "      <th>Price / LTM EPS</th>\n",
       "    </tr>\n",
       "  </thead>\n",
       "  <tbody>\n",
       "    <tr>\n",
       "      <th>0</th>\n",
       "      <td>PDCO</td>\n",
       "      <td>32.39</td>\n",
       "      <td>0.866738</td>\n",
       "      <td>3152259584</td>\n",
       "      <td>3742572800</td>\n",
       "      <td>0.595846</td>\n",
       "      <td>12.366949</td>\n",
       "      <td>16.776819</td>\n",
       "      <td>19.038833</td>\n",
       "    </tr>\n",
       "    <tr>\n",
       "      <th>1</th>\n",
       "      <td>MCK</td>\n",
       "      <td>203.06</td>\n",
       "      <td>0.966952</td>\n",
       "      <td>31408306176</td>\n",
       "      <td>38527455232</td>\n",
       "      <td>0.157112</td>\n",
       "      <td>9.166656</td>\n",
       "      <td>11.622158</td>\n",
       "      <td>-6.984280</td>\n",
       "    </tr>\n",
       "    <tr>\n",
       "      <th>2</th>\n",
       "      <td>HSIC</td>\n",
       "      <td>78.59</td>\n",
       "      <td>0.941762</td>\n",
       "      <td>10978471936</td>\n",
       "      <td>13046895616</td>\n",
       "      <td>1.096557</td>\n",
       "      <td>13.193702</td>\n",
       "      <td>16.305521</td>\n",
       "      <td>18.115005</td>\n",
       "    </tr>\n",
       "  </tbody>\n",
       "</table>\n",
       "</div>"
      ],
      "text/plain": [
       "  Ticker  Current Share Price  % of 52-wk. High  Equity Value  \\\n",
       "0   PDCO                32.39          0.866738    3152259584   \n",
       "1    MCK               203.06          0.966952   31408306176   \n",
       "2   HSIC                78.59          0.941762   10978471936   \n",
       "\n",
       "   Enterprise Value  EV / LTM Sales  EV / LTM EBITDA  EV / LTM EBIT  \\\n",
       "0        3742572800        0.595846        12.366949      16.776819   \n",
       "1       38527455232        0.157112         9.166656      11.622158   \n",
       "2       13046895616        1.096557        13.193702      16.305521   \n",
       "\n",
       "   Price / LTM EPS  \n",
       "0        19.038833  \n",
       "1        -6.984280  \n",
       "2        18.115005  "
      ]
     },
     "execution_count": 234,
     "metadata": {},
     "output_type": "execute_result"
    }
   ],
   "source": [
    "outputDf = pd.DataFrame(output)\n",
    "outputDf"
   ]
  },
  {
   "cell_type": "code",
   "execution_count": 235,
   "metadata": {},
   "outputs": [
    {
     "data": {
      "text/html": [
       "<div>\n",
       "<style scoped>\n",
       "    .dataframe tbody tr th:only-of-type {\n",
       "        vertical-align: middle;\n",
       "    }\n",
       "\n",
       "    .dataframe tbody tr th {\n",
       "        vertical-align: top;\n",
       "    }\n",
       "\n",
       "    .dataframe thead th {\n",
       "        text-align: right;\n",
       "    }\n",
       "</style>\n",
       "<table border=\"1\" class=\"dataframe\">\n",
       "  <thead>\n",
       "    <tr style=\"text-align: right;\">\n",
       "      <th></th>\n",
       "      <th>Current Share Price</th>\n",
       "      <th>% of 52-wk. High</th>\n",
       "      <th>Equity Value</th>\n",
       "      <th>Enterprise Value</th>\n",
       "      <th>EV / LTM Sales</th>\n",
       "      <th>EV / LTM EBITDA</th>\n",
       "      <th>EV / LTM EBIT</th>\n",
       "      <th>Price / LTM EPS</th>\n",
       "    </tr>\n",
       "  </thead>\n",
       "  <tbody>\n",
       "    <tr>\n",
       "      <th>mean</th>\n",
       "      <td>104.68</td>\n",
       "      <td>0.925151</td>\n",
       "      <td>1.517968e+10</td>\n",
       "      <td>1.843897e+10</td>\n",
       "      <td>0.616505</td>\n",
       "      <td>11.575769</td>\n",
       "      <td>14.901500</td>\n",
       "      <td>10.056519</td>\n",
       "    </tr>\n",
       "    <tr>\n",
       "      <th>min</th>\n",
       "      <td>32.39</td>\n",
       "      <td>0.866738</td>\n",
       "      <td>3.152260e+09</td>\n",
       "      <td>3.742573e+09</td>\n",
       "      <td>0.157112</td>\n",
       "      <td>9.166656</td>\n",
       "      <td>11.622158</td>\n",
       "      <td>-6.984280</td>\n",
       "    </tr>\n",
       "    <tr>\n",
       "      <th>median</th>\n",
       "      <td>78.59</td>\n",
       "      <td>0.941762</td>\n",
       "      <td>1.097847e+10</td>\n",
       "      <td>1.304690e+10</td>\n",
       "      <td>0.595846</td>\n",
       "      <td>12.366949</td>\n",
       "      <td>16.305521</td>\n",
       "      <td>18.115005</td>\n",
       "    </tr>\n",
       "    <tr>\n",
       "      <th>max</th>\n",
       "      <td>203.06</td>\n",
       "      <td>0.966952</td>\n",
       "      <td>3.140831e+10</td>\n",
       "      <td>3.852746e+10</td>\n",
       "      <td>1.096557</td>\n",
       "      <td>13.193702</td>\n",
       "      <td>16.776819</td>\n",
       "      <td>19.038833</td>\n",
       "    </tr>\n",
       "  </tbody>\n",
       "</table>\n",
       "</div>"
      ],
      "text/plain": [
       "        Current Share Price  % of 52-wk. High  Equity Value  Enterprise Value  \\\n",
       "mean                 104.68          0.925151  1.517968e+10      1.843897e+10   \n",
       "min                   32.39          0.866738  3.152260e+09      3.742573e+09   \n",
       "median                78.59          0.941762  1.097847e+10      1.304690e+10   \n",
       "max                  203.06          0.966952  3.140831e+10      3.852746e+10   \n",
       "\n",
       "        EV / LTM Sales  EV / LTM EBITDA  EV / LTM EBIT  Price / LTM EPS  \n",
       "mean          0.616505        11.575769      14.901500        10.056519  \n",
       "min           0.157112         9.166656      11.622158        -6.984280  \n",
       "median        0.595846        12.366949      16.305521        18.115005  \n",
       "max           1.096557        13.193702      16.776819        19.038833  "
      ]
     },
     "execution_count": 235,
     "metadata": {},
     "output_type": "execute_result"
    }
   ],
   "source": [
    "outputStats = outputDf.describe().loc['mean min 50% max'.split()].rename({'50%': 'median'}, axis=0)\n",
    "outputStats"
   ]
  },
  {
   "cell_type": "code",
   "execution_count": 236,
   "metadata": {},
   "outputs": [
    {
     "data": {
      "text/html": [
       "<div>\n",
       "<style scoped>\n",
       "    .dataframe tbody tr th:only-of-type {\n",
       "        vertical-align: middle;\n",
       "    }\n",
       "\n",
       "    .dataframe tbody tr th {\n",
       "        vertical-align: top;\n",
       "    }\n",
       "\n",
       "    .dataframe thead th {\n",
       "        text-align: right;\n",
       "    }\n",
       "</style>\n",
       "<table border=\"1\" class=\"dataframe\">\n",
       "  <thead>\n",
       "    <tr style=\"text-align: right;\">\n",
       "      <th></th>\n",
       "      <th>Ticker</th>\n",
       "      <th>Equity Value</th>\n",
       "      <th>Enterprise Value</th>\n",
       "      <th>LTM Sales</th>\n",
       "      <th>LTM Gross Profit</th>\n",
       "      <th>LTM EBITDA</th>\n",
       "      <th>LTM EBIT</th>\n",
       "      <th>LTM Net Income</th>\n",
       "      <th>LTM Gross Margin</th>\n",
       "      <th>LTM EBITDA Margin</th>\n",
       "      <th>...</th>\n",
       "      <th>ROIC</th>\n",
       "      <th>ROA</th>\n",
       "      <th>ROE</th>\n",
       "      <th>Implied Div. Yield</th>\n",
       "      <th>Debt / Tot. Cap.</th>\n",
       "      <th>Debt / EBITDA</th>\n",
       "      <th>Net Debt / EBITDA</th>\n",
       "      <th>EBITDA / Int. Exp.</th>\n",
       "      <th>(EBITDA - Cpx) / Int.</th>\n",
       "      <th>EBIT / Int. Exp.</th>\n",
       "    </tr>\n",
       "  </thead>\n",
       "  <tbody>\n",
       "    <tr>\n",
       "      <th>0</th>\n",
       "      <td>PDCO</td>\n",
       "      <td>3152259584</td>\n",
       "      <td>3742572800</td>\n",
       "      <td>6.281105e+09</td>\n",
       "      <td>1.276316e+09</td>\n",
       "      <td>3.026270e+08</td>\n",
       "      <td>2.230800e+08</td>\n",
       "      <td>1.655700e+08</td>\n",
       "      <td>0.203199</td>\n",
       "      <td>0.048181</td>\n",
       "      <td>...</td>\n",
       "      <td>0.486061</td>\n",
       "      <td>0.060181</td>\n",
       "      <td>0.170466</td>\n",
       "      <td>0.032109</td>\n",
       "      <td>0.379204</td>\n",
       "      <td>1.976747</td>\n",
       "      <td>1.524276</td>\n",
       "      <td>13.991724</td>\n",
       "      <td>15.243100</td>\n",
       "      <td>10.313930</td>\n",
       "    </tr>\n",
       "    <tr>\n",
       "      <th>1</th>\n",
       "      <td>MCK</td>\n",
       "      <td>31408306176</td>\n",
       "      <td>38527455232</td>\n",
       "      <td>2.452230e+11</td>\n",
       "      <td>1.229900e+10</td>\n",
       "      <td>4.203000e+09</td>\n",
       "      <td>3.315000e+09</td>\n",
       "      <td>-4.497000e+09</td>\n",
       "      <td>0.050154</td>\n",
       "      <td>0.017140</td>\n",
       "      <td>...</td>\n",
       "      <td>1.215622</td>\n",
       "      <td>-0.070316</td>\n",
       "      <td>16.352727</td>\n",
       "      <td>0.009258</td>\n",
       "      <td>1.080640</td>\n",
       "      <td>1.686652</td>\n",
       "      <td>1.110159</td>\n",
       "      <td>20.402913</td>\n",
       "      <td>22.694175</td>\n",
       "      <td>16.092233</td>\n",
       "    </tr>\n",
       "    <tr>\n",
       "      <th>2</th>\n",
       "      <td>HSIC</td>\n",
       "      <td>10978471936</td>\n",
       "      <td>13046895616</td>\n",
       "      <td>1.189806e+10</td>\n",
       "      <td>3.394612e+09</td>\n",
       "      <td>9.888730e+08</td>\n",
       "      <td>8.001520e+08</td>\n",
       "      <td>6.060430e+08</td>\n",
       "      <td>0.285308</td>\n",
       "      <td>0.083112</td>\n",
       "      <td>...</td>\n",
       "      <td>2.157151</td>\n",
       "      <td>0.076248</td>\n",
       "      <td>0.180681</td>\n",
       "      <td>0.000000</td>\n",
       "      <td>0.174563</td>\n",
       "      <td>0.718621</td>\n",
       "      <td>0.549511</td>\n",
       "      <td>27.514552</td>\n",
       "      <td>28.907234</td>\n",
       "      <td>22.263550</td>\n",
       "    </tr>\n",
       "  </tbody>\n",
       "</table>\n",
       "<p>3 rows × 26 columns</p>\n",
       "</div>"
      ],
      "text/plain": [
       "  Ticker  Equity Value  Enterprise Value     LTM Sales  LTM Gross Profit  \\\n",
       "0   PDCO    3152259584        3742572800  6.281105e+09      1.276316e+09   \n",
       "1    MCK   31408306176       38527455232  2.452230e+11      1.229900e+10   \n",
       "2   HSIC   10978471936       13046895616  1.189806e+10      3.394612e+09   \n",
       "\n",
       "     LTM EBITDA      LTM EBIT  LTM Net Income  LTM Gross Margin  \\\n",
       "0  3.026270e+08  2.230800e+08    1.655700e+08          0.203199   \n",
       "1  4.203000e+09  3.315000e+09   -4.497000e+09          0.050154   \n",
       "2  9.888730e+08  8.001520e+08    6.060430e+08          0.285308   \n",
       "\n",
       "   LTM EBITDA Margin  ...      ROIC       ROA        ROE  Implied Div. Yield  \\\n",
       "0           0.048181  ...  0.486061  0.060181   0.170466            0.032109   \n",
       "1           0.017140  ...  1.215622 -0.070316  16.352727            0.009258   \n",
       "2           0.083112  ...  2.157151  0.076248   0.180681            0.000000   \n",
       "\n",
       "   Debt / Tot. Cap.  Debt / EBITDA  Net Debt / EBITDA  EBITDA / Int. Exp.  \\\n",
       "0          0.379204       1.976747           1.524276           13.991724   \n",
       "1          1.080640       1.686652           1.110159           20.402913   \n",
       "2          0.174563       0.718621           0.549511           27.514552   \n",
       "\n",
       "   (EBITDA - Cpx) / Int.  EBIT / Int. Exp.  \n",
       "0              15.243100         10.313930  \n",
       "1              22.694175         16.092233  \n",
       "2              28.907234         22.263550  \n",
       "\n",
       "[3 rows x 26 columns]"
      ]
     },
     "execution_count": 236,
     "metadata": {},
     "output_type": "execute_result"
    }
   ],
   "source": [
    "benchmarking = pd.merge(benchmarking1Df, benchmarking2Df, on='Ticker')\n",
    "\n",
    "benchmarking"
   ]
  },
  {
   "cell_type": "code",
   "execution_count": 237,
   "metadata": {},
   "outputs": [
    {
     "data": {
      "text/plain": [
       "Index(['Ticker', 'Equity Value', 'Enterprise Value', 'LTM Sales',\n",
       "       'LTM Gross Profit', 'LTM EBITDA', 'LTM EBIT', 'LTM Net Income',\n",
       "       'LTM Gross Margin', 'LTM EBITDA Margin', 'LTM EBIT Margin',\n",
       "       'LTM Profit Margin', '1-year Sales Growth', '1-year EBITDA Growth',\n",
       "       '1-year Net Income Growth', 'Beta', 'ROIC', 'ROA', 'ROE',\n",
       "       'Implied Div. Yield', 'Debt / Tot. Cap.', 'Debt / EBITDA',\n",
       "       'Net Debt / EBITDA', 'EBITDA / Int. Exp.', '(EBITDA - Cpx) / Int.',\n",
       "       'EBIT / Int. Exp.'],\n",
       "      dtype='object')"
      ]
     },
     "execution_count": 237,
     "metadata": {},
     "output_type": "execute_result"
    }
   ],
   "source": [
    "benchmarking.columns"
   ]
  },
  {
   "cell_type": "code",
   "execution_count": 238,
   "metadata": {},
   "outputs": [],
   "source": [
    "h = benchmarking[benchmarking['Ticker'] == targetTicker]\n",
    "\n",
    "closestComps = pd.DataFrame()\n",
    "\n",
    "tickers = []\n",
    "euclidDists = []\n",
    "for comp in benchmarking[benchmarking['Ticker'] != targetTicker]['Ticker']:\n",
    "    \n",
    "    tickers.append(comp)\n",
    "    \n",
    "    c = benchmarking[benchmarking['Ticker'] == comp]\n",
    "    \n",
    "    diffsSq = []\n",
    "    \n",
    "    for col in benchmarking.columns[1:]:\n",
    "        diff = float(c[col].iloc[0] - h[col].iloc[0]) # Float prevents integer overflow.\n",
    "        diffSq = diff ** 2\n",
    "        diffsSq.append(diffSq)\n",
    "    \n",
    "    euclideanDist = math.sqrt(sum(diffsSq))\n",
    "    euclidDists.append(euclideanDist)\n",
    "    \n",
    "closestComps['Ticker'] = tickers\n",
    "closestComps['Euclidean Distance'] = euclidDists\n",
    "closestComps.sort_values(by='Euclidean Distance', ascending=True, inplace=True)"
   ]
  },
  {
   "cell_type": "code",
   "execution_count": 239,
   "metadata": {},
   "outputs": [
    {
     "data": {
      "text/html": [
       "<div>\n",
       "<style scoped>\n",
       "    .dataframe tbody tr th:only-of-type {\n",
       "        vertical-align: middle;\n",
       "    }\n",
       "\n",
       "    .dataframe tbody tr th {\n",
       "        vertical-align: top;\n",
       "    }\n",
       "\n",
       "    .dataframe thead th {\n",
       "        text-align: right;\n",
       "    }\n",
       "</style>\n",
       "<table border=\"1\" class=\"dataframe\">\n",
       "  <thead>\n",
       "    <tr style=\"text-align: right;\">\n",
       "      <th></th>\n",
       "      <th>Ticker</th>\n",
       "      <th>Euclidean Distance</th>\n",
       "    </tr>\n",
       "  </thead>\n",
       "  <tbody>\n",
       "    <tr>\n",
       "      <th>0</th>\n",
       "      <td>PDCO</td>\n",
       "      <td>1.359615e+10</td>\n",
       "    </tr>\n",
       "    <tr>\n",
       "      <th>1</th>\n",
       "      <td>MCK</td>\n",
       "      <td>2.358583e+11</td>\n",
       "    </tr>\n",
       "  </tbody>\n",
       "</table>\n",
       "</div>"
      ],
      "text/plain": [
       "  Ticker  Euclidean Distance\n",
       "0   PDCO        1.359615e+10\n",
       "1    MCK        2.358583e+11"
      ]
     },
     "execution_count": 239,
     "metadata": {},
     "output_type": "execute_result"
    }
   ],
   "source": [
    "closestComps"
   ]
  },
  {
   "cell_type": "code",
   "execution_count": 240,
   "metadata": {
    "scrolled": true
   },
   "outputs": [
    {
     "data": {
      "text/plain": [
       "['PDCO', 'MCK']"
      ]
     },
     "execution_count": 240,
     "metadata": {},
     "output_type": "execute_result"
    }
   ],
   "source": [
    "twoClosestComps = list(closestComps['Ticker'].iloc[:2])\n",
    "twoClosestComps"
   ]
  },
  {
   "cell_type": "markdown",
   "metadata": {},
   "source": [
    "## Determine Valuation"
   ]
  },
  {
   "cell_type": "code",
   "execution_count": 241,
   "metadata": {},
   "outputs": [],
   "source": [
    "valuation = {'Valuation Implied by Sales': [],\n",
    "            'Valuation Implied by EBITDA': [],\n",
    "            'Valuation Implied by EBIT': [],\n",
    "            'Valuation Implied by EPS': []}"
   ]
  },
  {
   "cell_type": "code",
   "execution_count": 242,
   "metadata": {},
   "outputs": [],
   "source": [
    "sharesOut = targetInfo['sharesOutstanding']"
   ]
  },
  {
   "cell_type": "markdown",
   "metadata": {},
   "source": [
    "### Valuation Implied by Sales"
   ]
  },
  {
   "cell_type": "code",
   "execution_count": 243,
   "metadata": {},
   "outputs": [],
   "source": [
    "benchmarking.set_index(\"Ticker\", inplace=True)"
   ]
  },
  {
   "cell_type": "code",
   "execution_count": 244,
   "metadata": {},
   "outputs": [],
   "source": [
    "outputDf.set_index(\"Ticker\", inplace=True)"
   ]
  },
  {
   "cell_type": "code",
   "execution_count": 245,
   "metadata": {},
   "outputs": [],
   "source": [
    "ltmSales = benchmarking.loc[targetTicker, 'LTM Sales']\n",
    "evToSalesLB = min(outputDf.loc[twoClosestComps, 'EV / LTM Sales'])\n",
    "evToSalesUB = max(outputDf.loc[twoClosestComps, 'EV / LTM Sales'])"
   ]
  },
  {
   "cell_type": "code",
   "execution_count": 246,
   "metadata": {},
   "outputs": [
    {
     "name": "stdout",
     "output_type": "stream",
     "text": [
      "Implied Enterprise Value: 1869326210.6750743 - 7089411340.186798\n"
     ]
    }
   ],
   "source": [
    "impliedEVLB = ltmSales * evToSalesLB\n",
    "impliedEVUB = ltmSales * evToSalesUB\n",
    "print('Implied Enterprise Value:', impliedEVLB, '-', impliedEVUB)"
   ]
  },
  {
   "cell_type": "code",
   "execution_count": 247,
   "metadata": {},
   "outputs": [],
   "source": [
    "debtt = ltmbalance.loc['Short Long Term Debt'] + ltmbalance.loc['Long Term Debt']\n",
    "debttm1 = balance.iloc[:, 0].loc['Short Long Term Debt'] + balance.iloc[:, 0].loc['Long Term Debt']\n",
    "netDebtt = debtt - ltmbalance.loc['Cash']"
   ]
  },
  {
   "cell_type": "code",
   "execution_count": 248,
   "metadata": {},
   "outputs": [
    {
     "name": "stdout",
     "output_type": "stream",
     "text": [
      "Implied Equity Value: 1670863210.6750743 - 6890948340.186798\n"
     ]
    }
   ],
   "source": [
    "impliedEqVLB = impliedEVLB - netDebttm1\n",
    "impliedEqVUB = impliedEVUB - netDebttm1\n",
    "print('Implied Equity Value:', impliedEqVLB, '-', impliedEqVUB)"
   ]
  },
  {
   "cell_type": "code",
   "execution_count": 249,
   "metadata": {},
   "outputs": [
    {
     "name": "stdout",
     "output_type": "stream",
     "text": [
      "Implied Share Price: 11.96 - 49.33\n"
     ]
    }
   ],
   "source": [
    "print('Implied Share Price:', round(impliedEqVLB/sharesOut, 2), '-', round(impliedEqVUB/sharesOut, 2))\n",
    "valuation['Valuation Implied by Sales'] = [round(impliedEqVLB/sharesOut, 2), round(impliedEqVUB/sharesOut, 2)]"
   ]
  },
  {
   "cell_type": "markdown",
   "metadata": {},
   "source": [
    "### Valuation Implied by EBITDA"
   ]
  },
  {
   "cell_type": "code",
   "execution_count": 250,
   "metadata": {},
   "outputs": [],
   "source": [
    "ltmEBITDA = benchmarking.loc[targetTicker, 'LTM EBITDA']"
   ]
  },
  {
   "cell_type": "code",
   "execution_count": 251,
   "metadata": {},
   "outputs": [],
   "source": [
    "evToEBITDALB = min(outputDf.loc[twoClosestComps, 'EV / LTM EBITDA'])\n",
    "evToEBITDAUB = max(outputDf.loc[twoClosestComps, 'EV / LTM EBITDA'])"
   ]
  },
  {
   "cell_type": "code",
   "execution_count": 252,
   "metadata": {},
   "outputs": [
    {
     "name": "stdout",
     "output_type": "stream",
     "text": [
      "Implied Enterprise Value: 9064658633.745785 - 12229342366.855568\n"
     ]
    }
   ],
   "source": [
    "impliedEVLB = ltmEBITDA * evToEBITDALB\n",
    "impliedEVUB = ltmEBITDA * evToEBITDAUB\n",
    "print('Implied Enterprise Value:', impliedEVLB, '-', impliedEVUB)"
   ]
  },
  {
   "cell_type": "code",
   "execution_count": 253,
   "metadata": {},
   "outputs": [
    {
     "name": "stdout",
     "output_type": "stream",
     "text": [
      "Implied Equity Value: 8866195633.745785 - 12030879366.855568\n"
     ]
    }
   ],
   "source": [
    "impliedEqVLB = impliedEVLB - netDebttm1\n",
    "impliedEqVUB = impliedEVUB - netDebttm1\n",
    "print('Implied Equity Value:', impliedEqVLB, '-', impliedEqVUB)"
   ]
  },
  {
   "cell_type": "code",
   "execution_count": 254,
   "metadata": {},
   "outputs": [
    {
     "name": "stdout",
     "output_type": "stream",
     "text": [
      "Implied Share Price: 63.47 - 86.12\n"
     ]
    }
   ],
   "source": [
    "print('Implied Share Price:', round(impliedEqVLB/sharesOut, 2), '-', round(impliedEqVUB/sharesOut, 2))\n",
    "valuation['Valuation Implied by EBITDA'] = [round(impliedEqVLB/sharesOut, 2), round(impliedEqVUB/sharesOut, 2)]"
   ]
  },
  {
   "cell_type": "markdown",
   "metadata": {},
   "source": [
    "### Valuation Implied by EBIT"
   ]
  },
  {
   "cell_type": "code",
   "execution_count": 255,
   "metadata": {},
   "outputs": [],
   "source": [
    "ltmEBIT = benchmarking.loc[targetTicker, 'LTM EBIT']"
   ]
  },
  {
   "cell_type": "code",
   "execution_count": 256,
   "metadata": {},
   "outputs": [],
   "source": [
    "evToEBITLB = min(outputDf.loc[twoClosestComps, 'EV / LTM EBIT'])\n",
    "evToEBITUB = max(outputDf.loc[twoClosestComps, 'EV / LTM EBIT'])"
   ]
  },
  {
   "cell_type": "code",
   "execution_count": 257,
   "metadata": {},
   "outputs": [
    {
     "name": "stdout",
     "output_type": "stream",
     "text": [
      "Implied Enterprise Value: 9299493320.90355 - 13424005339.185944\n"
     ]
    }
   ],
   "source": [
    "impliedEVLB = ltmEBIT * evToEBITLB\n",
    "impliedEVUB = ltmEBIT * evToEBITUB\n",
    "print('Implied Enterprise Value:', impliedEVLB, '-', impliedEVUB)"
   ]
  },
  {
   "cell_type": "code",
   "execution_count": 258,
   "metadata": {},
   "outputs": [
    {
     "name": "stdout",
     "output_type": "stream",
     "text": [
      "Implied Equity Value: 9101030320.90355 - 13225542339.185944\n"
     ]
    }
   ],
   "source": [
    "impliedEqVLB = impliedEVLB - netDebttm1\n",
    "impliedEqVUB = impliedEVUB - netDebttm1\n",
    "print('Implied Equity Value:', impliedEqVLB, '-', impliedEqVUB)"
   ]
  },
  {
   "cell_type": "code",
   "execution_count": 259,
   "metadata": {},
   "outputs": [
    {
     "name": "stdout",
     "output_type": "stream",
     "text": [
      "Implied Share Price: 65.15 - 94.68\n"
     ]
    }
   ],
   "source": [
    "print('Implied Share Price:', round(impliedEqVLB/sharesOut, 2), '-', round(impliedEqVUB/sharesOut, 2))\n",
    "valuation['Valuation Implied by EBIT'] = [round(impliedEqVLB/sharesOut, 2), round(impliedEqVUB/sharesOut, 2)]"
   ]
  },
  {
   "cell_type": "markdown",
   "metadata": {},
   "source": [
    "### Valuation Implied by EPS"
   ]
  },
  {
   "cell_type": "code",
   "execution_count": 260,
   "metadata": {},
   "outputs": [],
   "source": [
    "ltmNI = benchmarking.loc[targetTicker, 'LTM Net Income']\n",
    "ltmEPS = ltmNI / sharesOut"
   ]
  },
  {
   "cell_type": "code",
   "execution_count": 261,
   "metadata": {},
   "outputs": [],
   "source": [
    "peLB = min(outputDf.loc[twoClosestComps, 'Price / LTM EPS'])\n",
    "peUB = max(outputDf.loc[twoClosestComps, 'Price / LTM EPS'])"
   ]
  },
  {
   "cell_type": "code",
   "execution_count": 262,
   "metadata": {},
   "outputs": [
    {
     "name": "stdout",
     "output_type": "stream",
     "text": [
      "Implied Share Price: -30.3 - 82.6\n"
     ]
    }
   ],
   "source": [
    "print('Implied Share Price:', round(ltmEPS * peLB, 2), '-', round(ltmEPS * peUB, 2))\n",
    "valuation['Valuation Implied by EPS'] = [round(ltmEPS * peLB, 2), round(ltmEPS * peUB, 2)]"
   ]
  },
  {
   "cell_type": "markdown",
   "metadata": {},
   "source": [
    "### Final Valuation"
   ]
  },
  {
   "cell_type": "code",
   "execution_count": 264,
   "metadata": {},
   "outputs": [],
   "source": [
    "lowerBounds = []\n",
    "upperBounds = []\n",
    "for key in valuation:\n",
    "    lowerBounds.append(valuation[key][0])\n",
    "    upperBounds.append(valuation[key][1])"
   ]
  },
  {
   "cell_type": "code",
   "execution_count": 265,
   "metadata": {
    "scrolled": false
   },
   "outputs": [
    {
     "name": "stdout",
     "output_type": "stream",
     "text": [
      "Implied Share Price: 27.57 - 78.18\n"
     ]
    }
   ],
   "source": [
    "avgLower = round(sum(lowerBounds) / len(lowerBounds), 2)\n",
    "avgUpper = round(sum(upperBounds) / len(upperBounds), 2)\n",
    "print('Implied Share Price:', avgLower, '-', avgUpper)"
   ]
  },
  {
   "cell_type": "markdown",
   "metadata": {},
   "source": [
    "### Write Results to Excel"
   ]
  },
  {
   "cell_type": "code",
   "execution_count": 267,
   "metadata": {},
   "outputs": [],
   "source": [
    "valuation['Range'] = ['Low', 'High']"
   ]
  },
  {
   "cell_type": "code",
   "execution_count": 269,
   "metadata": {},
   "outputs": [],
   "source": [
    "valuationDf = pd.DataFrame(valuation).set_index('Range')"
   ]
  },
  {
   "cell_type": "code",
   "execution_count": 272,
   "metadata": {},
   "outputs": [],
   "source": [
    "with pd.ExcelWriter(targetTicker + '-comps.xlsx') as writer:  \n",
    "    benchmarking1Df.to_excel(writer, sheet_name='Benchmarking 1', index=False)\n",
    "    bm1Stats.to_excel(writer, sheet_name='BM1 Stats')\n",
    "    benchmarking2Df.to_excel(writer, sheet_name='Benchmarking 2', index=False)\n",
    "    bm2Stats.to_excel(writer, sheet_name='BM2 Stats')\n",
    "    outputDf.to_excel(writer, sheet_name='Output', index=False)\n",
    "    outputStats.to_excel(writer, sheet_name='Output Stats', index=False)\n",
    "    valuationDf.to_excel(writer, sheet_name='Valuation')"
   ]
  }
 ],
 "metadata": {
  "kernelspec": {
   "display_name": "Python 3",
   "language": "python",
   "name": "python3"
  },
  "language_info": {
   "codemirror_mode": {
    "name": "ipython",
    "version": 3
   },
   "file_extension": ".py",
   "mimetype": "text/x-python",
   "name": "python",
   "nbconvert_exporter": "python",
   "pygments_lexer": "ipython3",
   "version": "3.8.5"
  }
 },
 "nbformat": 4,
 "nbformat_minor": 4
}
